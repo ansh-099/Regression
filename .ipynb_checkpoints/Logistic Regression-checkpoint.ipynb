{
 "cells": [
  {
   "cell_type": "code",
   "execution_count": 35,
   "metadata": {},
   "outputs": [],
   "source": [
    "# Mainly for classification of two groups\n",
    "import numpy as np\n",
    "import matplotlib.pyplot as plt"
   ]
  },
  {
   "cell_type": "code",
   "execution_count": 36,
   "metadata": {},
   "outputs": [],
   "source": [
    "# Data Generation\n",
    "mean0 = np.array([1,1])\n",
    "mean1 = np.array([3,3])\n",
    "cov0 = np.array([[1.2,0.4],[0.4,0.8]])\n",
    "cov1 = np.array([[0.8,-0.4],[-0.4,1]])\n"
   ]
  },
  {
   "cell_type": "code",
   "execution_count": 37,
   "metadata": {},
   "outputs": [],
   "source": [
    "dist0 = np.random.multivariate_normal(mean0, cov0, 500)\n",
    "dist1 = np.random.multivariate_normal(mean1, cov1, 500)"
   ]
  },
  {
   "cell_type": "code",
   "execution_count": 38,
   "metadata": {},
   "outputs": [
    {
     "data": {
      "text/plain": [
       "<matplotlib.collections.PathCollection at 0x1166de240>"
      ]
     },
     "execution_count": 38,
     "metadata": {},
     "output_type": "execute_result"
    },
    {
     "data": {
      "image/png": "[encoded data removed]",
      "text/plain": [
       "<Figure size 432x288 with 1 Axes>"
      ]
     },
     "metadata": {
      "needs_background": "light"
     },
     "output_type": "display_data"
    }
   ],
   "source": [
    "plt.figure()\n",
    "plt.scatter(dist0[:,0],dist0[:,1])\n",
    "plt.scatter(dist1[:,0],dist1[:,1],color='red')"
   ]
  },
  {
   "cell_type": "code",
   "execution_count": 39,
   "metadata": {},
   "outputs": [],
   "source": [
    "data = np.zeros([1000,3])"
   ]
  },
  {
   "cell_type": "code",
   "execution_count": 40,
   "metadata": {},
   "outputs": [],
   "source": [
    "data[:500,:2] = dist0\n",
    "# No need its by default 0   -> data[:500,2] = 0\n",
    "data[500:,:2] = dist1\n",
    "data[500:,2] = 1"
   ]
  },
  {
   "cell_type": "code",
   "execution_count": 41,
   "metadata": {},
   "outputs": [
    {
     "name": "stdout",
     "output_type": "stream",
     "text": [
      "[[3.07727134 2.34166652 1.        ]\n",
      " [3.81122236 2.1596545  1.        ]\n",
      " [1.46331349 3.65913919 1.        ]\n",
      " [3.07609876 3.02555371 1.        ]\n",
      " [3.40476554 3.56334006 1.        ]]\n"
     ]
    }
   ],
   "source": [
    "print(data[995:])"
   ]
  },
  {
   "cell_type": "code",
   "execution_count": 42,
   "metadata": {},
   "outputs": [],
   "source": [
    "np.random.shuffle(data)"
   ]
  },
  {
   "cell_type": "code",
   "execution_count": 43,
   "metadata": {},
   "outputs": [
    {
     "name": "stdout",
     "output_type": "stream",
     "text": [
      "[[ 2.96944368  2.07095483  1.        ]\n",
      " [ 3.40568264  2.57322719  1.        ]\n",
      " [ 1.26310004  1.02988787  0.        ]\n",
      " [ 0.51458171 -0.25839297  0.        ]\n",
      " [ 4.71740974  2.79197598  1.        ]]\n"
     ]
    }
   ],
   "source": [
    "print(data[995:])"
   ]
  },
  {
   "cell_type": "code",
   "execution_count": 44,
   "metadata": {},
   "outputs": [],
   "source": [
    "split = int(data.shape[0]*0.8)\n",
    "X_train = data[:split,:2]\n",
    "Y_train = data[:split,2]\n",
    "X_test = data[split:,:2]\n",
    "Y_test = data[split:,2]"
   ]
  },
  {
   "cell_type": "code",
   "execution_count": 45,
   "metadata": {},
   "outputs": [],
   "source": [
    "class LogisticRegression:\n",
    "    \n",
    "    def __init__(self, X, Y):\n",
    "        self.X = X\n",
    "        self.Y = Y\n",
    "        self.N ,self.dim = X.shape[0],X.shape[1]\n",
    "        self.coef = np.random.uniform(low=-1,high=-1,size=(self.dim , ))\n",
    "        self.intercept = np.random.random()\n",
    "    \n",
    "    def sigmoid(self, z):\n",
    "        return 1 / (1 + np.exp(-z))\n",
    "    \n",
    "    def hypothesis(self, x):\n",
    "        return self.sigmoid(self.coef.dot(x) + self.intercept)\n",
    "    \n",
    "    def apply_gradient_descent(self,learning_rate = 0.1):\n",
    "        \n",
    "        gradients = np.zeros_like(self.coef)\n",
    "        grad00 = 0\n",
    "        \n",
    "        # Get Predictions\n",
    "        yhat = self.getPredictions(self.X)\n",
    "        \n",
    "        #for all examples calculate gradients\n",
    "        for i in range(self.N):\n",
    "            gradients += (self.hypothesis(self.X[i]) - self.Y[i]) * self.X[i]\n",
    "            grad00 += (self.hypothesis(self.X[i]) - self.Y[i])\n",
    "            \n",
    "        #Update weights \n",
    "        self.coef -= learning_rate * gradients\n",
    "        self.intercept -= learning_rate * grad00\n",
    "            \n",
    "    \n",
    "    def compute_loss(self):\n",
    "        log_likelihood = 0\n",
    "        #  L = ylog(hx) + (1-y)(log(1-hx))\n",
    "        \n",
    "        for x,y in zip(self.X,self.Y):\n",
    "            log_likelihood += ((y* np.log(self.hypothesis(x) + 1e-03)) + \\\n",
    "                    (1 - y)*(np.log(1-self.hypothesis(x) + 1e-03)))\n",
    "            \n",
    "            neg_log_loss = -log_likelihood / self.N\n",
    "            return neg_log_loss\n",
    "        \n",
    "    \n",
    "    def getPredictions(self,test_data):\n",
    "        yhat = []\n",
    "        for x in test_data:\n",
    "            yhat.append(self.predict(x))\n",
    "            \n",
    "        self.yhat = np.array(yhat)\n",
    "        return yhat\n",
    "    \n",
    "    \n",
    "    def predict(self,x):\n",
    "        hx = self.hypothesis(x)\n",
    "        if hx >= 0.5:\n",
    "            return 1\n",
    "        else:\n",
    "            return 0\n",
    "        \n",
    "    def accuracy(self, test_data, y_actual):\n",
    "        yhat = self.getPredictions(test_data)\n",
    "        \n",
    "        \n",
    "        return (yhat == y_actual).sum() / test_data.shape[0]\n",
    "    \n",
    "    def run(self, losses, iterations=1):\n",
    "        losses = []\n",
    "        for _ in range(iterations):\n",
    "            losses.append(self.compute_loss())\n",
    "            self.apply_gradient_descent()\n",
    "        print(losses[:10])\n",
    "        return losses\n",
    "        \n",
    "    "
   ]
  },
  {
   "cell_type": "code",
   "execution_count": 46,
   "metadata": {},
   "outputs": [],
   "source": [
    "reg = LogisticRegression(X_train,Y_train)"
   ]
  },
  {
   "cell_type": "code",
   "execution_count": 47,
   "metadata": {},
   "outputs": [
    {
     "name": "stdout",
     "output_type": "stream",
     "text": [
      "Accuracy before: 0.385\n"
     ]
    }
   ],
   "source": [
    "#Randomly picking up will give around 50% accuracy\n",
    "print(\"Accuracy before:\",reg.accuracy(X_test,Y_test))"
   ]
  },
  {
   "cell_type": "code",
   "execution_count": 48,
   "metadata": {},
   "outputs": [],
   "source": [
    "losses = reg.compute_loss()"
   ]
  },
  {
   "cell_type": "code",
   "execution_count": 49,
   "metadata": {},
   "outputs": [
    {
     "data": {
      "text/plain": [
       "0.006969641079917745"
      ]
     },
     "execution_count": 49,
     "metadata": {},
     "output_type": "execute_result"
    }
   ],
   "source": [
    "losses"
   ]
  },
  {
   "cell_type": "code",
   "execution_count": 50,
   "metadata": {},
   "outputs": [],
   "source": [
    "\n",
    "def draw_decision_boundary():\n",
    "    plt.figure()\n",
    "    plt.scatter(dist0[:, 0], dist0[:, 1], color='red')\n",
    "    plt.scatter(dist1[:, 0], dist1[:, 1], color='green')\n",
    "    x = np.array([-4, 5])\n",
    "    y = -(reg.coef[0] * x + reg.intercept)/reg.coef[1]\n",
    "    plt.plot(x,y, 'k')\n",
    "    plt.title(\"Decision Boundary\")\n",
    "    plt.show()\n"
   ]
  },
  {
   "cell_type": "code",
   "execution_count": 51,
   "metadata": {},
   "outputs": [
    {
     "name": "stdout",
     "output_type": "stream",
     "text": [
      "[0.006969641079917745, -1.249375416354279e-06, -1.249375416354279e-06, -1.249375416354279e-06, 0.00863469409872767, -1.249375416354279e-06, -1.249375416354279e-06, -1.249375416354279e-06, 0.008634466242465198, -1.249375416354279e-06]\n",
      "ACCURACY: 0.935\n"
     ]
    },
    {
     "data": {
      "image/png": "[encoded data removed]",
      "text/plain": [
       "<Figure size 432x288 with 1 Axes>"
      ]
     },
     "metadata": {
      "needs_background": "light"
     },
     "output_type": "display_data"
    }
   ],
   "source": [
    "losses = reg.run(losses,iterations=100)\n",
    "print(\"ACCURACY:\",reg.accuracy(X_test,Y_test))\n",
    "draw_decision_boundary()"
   ]
  },
  {
   "cell_type": "code",
   "execution_count": null,
   "metadata": {},
   "outputs": [],
   "source": []
  },
  {
   "cell_type": "code",
   "execution_count": null,
   "metadata": {},
   "outputs": [],
   "source": []
  },
  {
   "cell_type": "code",
   "execution_count": 52,
   "metadata": {},
   "outputs": [
    {
     "data": {
      "text/plain": [
       "(200,)"
      ]
     },
     "execution_count": 52,
     "metadata": {},
     "output_type": "execute_result"
    }
   ],
   "source": [
    "reg.yhat.shape"
   ]
  },
  {
   "cell_type": "code",
   "execution_count": 53,
   "metadata": {},
   "outputs": [
    {
     "data": {
      "text/plain": [
       "(800, 2)"
      ]
     },
     "execution_count": 53,
     "metadata": {},
     "output_type": "execute_result"
    }
   ],
   "source": [
    "X_train.shape"
   ]
  },
  {
   "cell_type": "code",
   "execution_count": null,
   "metadata": {},
   "outputs": [],
   "source": []
  },
  {
   "cell_type": "code",
   "execution_count": null,
   "metadata": {},
   "outputs": [],
   "source": []
  },
  {
   "cell_type": "code",
   "execution_count": null,
   "metadata": {},
   "outputs": [],
   "source": []
  },
  {
   "cell_type": "code",
   "execution_count": null,
   "metadata": {},
   "outputs": [],
   "source": []
  },
  {
   "cell_type": "code",
   "execution_count": null,
   "metadata": {},
   "outputs": [],
   "source": []
  },
  {
   "cell_type": "code",
   "execution_count": null,
   "metadata": {},
   "outputs": [],
   "source": []
  },
  {
   "cell_type": "code",
   "execution_count": null,
   "metadata": {},
   "outputs": [],
   "source": []
  },
  {
   "cell_type": "code",
   "execution_count": null,
   "metadata": {},
   "outputs": [],
   "source": []
  }
 ],
 "metadata": {
  "kernelspec": {
   "display_name": "Python 3",
   "language": "python",
   "name": "python3"
  },
  "language_info": {
   "codemirror_mode": {
    "name": "ipython",
    "version": 3
   },
   "file_extension": ".py",
   "mimetype": "text/x-python",
   "name": "python",
   "nbconvert_exporter": "python",
   "pygments_lexer": "ipython3",
   "version": "3.7.0"
  }
 },
 "nbformat": 4,
 "nbformat_minor": 2
}
