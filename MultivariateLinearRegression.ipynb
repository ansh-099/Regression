{
 "cells": [
  {
   "cell_type": "markdown",
   "metadata": {},
   "source": [
    "# MultivariateLinearRegression"
   ]
  },
  {
   "cell_type": "code",
   "execution_count": 11,
   "metadata": {},
   "outputs": [],
   "source": [
    "import numpy as np\n",
    "import matplotlib.pyplot as plt\n",
    "from sklearn.datasets import make_regression"
   ]
  },
  {
   "cell_type": "code",
   "execution_count": 12,
   "metadata": {},
   "outputs": [],
   "source": [
    "class MultivariateLinearRegression:\n",
    "    def __init__(self,X,Y):\n",
    "        self.X = ((X - X.mean(axis=0)) / X.std(axis=0))\n",
    "        self.Y = Y\n",
    "        self.coef = np.random.uniform(low=-1, high=1, size=(self.X.shape[1],))\n",
    "        self.intercept = np.random.random()\n",
    "        \n",
    "        \n",
    "    def hypothesis(self, x):\n",
    "        return self.coef.dot(x) +self.intercept \n",
    "    \n",
    "    def apply_gradient_descent(self, learning_rate = 0.01):\n",
    "        gradients = np.zeros_like(self.coef)\n",
    "        grad00 = 0\n",
    "        \n",
    "        # Get predictions\n",
    "        yhat = []\n",
    "        for x in self.X:\n",
    "            yhat.append(self.hypothesis(x))\n",
    "        yhat = np.array(yhat)\n",
    "        \n",
    "        \n",
    "        #compute Gradients\n",
    "#         for j in range(self.X.shape[1]):\n",
    "#             gradients[j] = (yhat - self.Y)*(self.X[:,j]).sum() / self.X.shape[0]\n",
    "            \n",
    "    \n",
    "        for j in range(self.X.shape[1]):\n",
    "            gradients[j] = ((yhat - self.Y) * (self.X[:, j])).sum() / self.X.shape[0]\n",
    "            \n",
    "            \n",
    "        grad00 = (yhat - self.Y).sum() / self.X.shape[0]\n",
    "        \n",
    "        #Update Weights\n",
    "        self.intercept = self.intercept - (learning_rate*grad00)\n",
    "        self.coef = self.coef - (learning_rate*gradients)\n",
    "        \n",
    "        \n",
    "        \n",
    "    \n",
    "    def compute_loss(self):\n",
    "        losses = []\n",
    "        for x,y in zip(self.X,self.Y):\n",
    "            losses.append((y - self.hypothesis(x))**2)\n",
    "        losses = np.array(losses)\n",
    "        \n",
    "        final = losses.sum() / 2 * self.X.shape[0]\n",
    "        return final\n",
    "    \n",
    "    def run(self, losses , iterations = 1):\n",
    "        for i in range(iterations):\n",
    "            losses.append(self.compute_loss())\n",
    "            self.apply_gradient_descent()\n",
    "        return losses\n",
    "     \n",
    "        "
   ]
  },
  {
   "cell_type": "code",
   "execution_count": 13,
   "metadata": {},
   "outputs": [],
   "source": [
    "from sklearn.datasets import load_boston"
   ]
  },
  {
   "cell_type": "code",
   "execution_count": 14,
   "metadata": {},
   "outputs": [],
   "source": [
    "boston = load_boston()"
   ]
  },
  {
   "cell_type": "code",
   "execution_count": 15,
   "metadata": {},
   "outputs": [
    {
     "name": "stdout",
     "output_type": "stream",
     "text": [
      "<built-in method items of Bunch object at 0x1a1f40faf0>\n"
     ]
    },
    {
     "data": {
      "text/plain": [
       "(506, 13)"
      ]
     },
     "execution_count": 15,
     "metadata": {},
     "output_type": "execute_result"
    }
   ],
   "source": [
    "print(boston.items)\n",
    "boston.data.shape"
   ]
  },
  {
   "cell_type": "code",
   "execution_count": 16,
   "metadata": {},
   "outputs": [
    {
     "name": "stdout",
     "output_type": "stream",
     "text": [
      "[24.  21.6]\n"
     ]
    }
   ],
   "source": [
    "boston.target.shape\n",
    "print(boston.target[:2])"
   ]
  },
  {
   "cell_type": "code",
   "execution_count": 17,
   "metadata": {},
   "outputs": [],
   "source": [
    "from sklearn.model_selection import train_test_split\n",
    "X_train, X_test, Y_train, Y_test = train_test_split(boston.data, boston.target, test_size=0.2)"
   ]
  },
  {
   "cell_type": "code",
   "execution_count": 18,
   "metadata": {},
   "outputs": [],
   "source": [
    "mReg = MultivariateLinearRegression(X_train,Y_train)"
   ]
  },
  {
   "cell_type": "code",
   "execution_count": 19,
   "metadata": {},
   "outputs": [
    {
     "data": {
      "text/plain": [
       "-480.68696908272"
      ]
     },
     "execution_count": 19,
     "metadata": {},
     "output_type": "execute_result"
    }
   ],
   "source": [
    "X_train[0].dot(mReg.coef)"
   ]
  },
  {
   "cell_type": "code",
   "execution_count": 20,
   "metadata": {},
   "outputs": [],
   "source": [
    "losses = [mReg.compute_loss()]"
   ]
  },
  {
   "cell_type": "code",
   "execution_count": 21,
   "metadata": {},
   "outputs": [],
   "source": [
    "losses = mReg.run(losses, 1000)"
   ]
  },
  {
   "cell_type": "code",
   "execution_count": 22,
   "metadata": {},
   "outputs": [
    {
     "name": "stdout",
     "output_type": "stream",
     "text": [
      "(1001,)\n"
     ]
    }
   ],
   "source": [
    "losses= np.array(losses)\n",
    "print(losses.shape)"
   ]
  },
  {
   "cell_type": "code",
   "execution_count": 23,
   "metadata": {},
   "outputs": [
    {
     "data": {
      "text/plain": [
       "array([-0.86072027,  0.90135663,  0.10910435,  0.49767303, -1.61391206,\n",
       "        3.13760158, -0.13470032, -2.65547242,  1.87940424, -1.24097151,\n",
       "       -1.94701089,  0.91042864, -3.48306099])"
      ]
     },
     "execution_count": 23,
     "metadata": {},
     "output_type": "execute_result"
    }
   ],
   "source": [
    "mReg.coef"
   ]
  },
  {
   "cell_type": "code",
   "execution_count": 24,
   "metadata": {},
   "outputs": [
    {
     "data": {
      "image/png": "[encoded data removed]",
      "text/plain": [
       "<Figure size 432x288 with 1 Axes>"
      ]
     },
     "metadata": {
      "needs_background": "light"
     },
     "output_type": "display_data"
    }
   ],
   "source": [
    "plt.figure()\n",
    "plt.plot(losses)\n",
    "plt.show()"
   ]
  },
  {
   "cell_type": "code",
   "execution_count": null,
   "metadata": {},
   "outputs": [],
   "source": []
  },
  {
   "cell_type": "code",
   "execution_count": null,
   "metadata": {},
   "outputs": [],
   "source": []
  },
  {
   "cell_type": "code",
   "execution_count": null,
   "metadata": {},
   "outputs": [],
   "source": []
  },
  {
   "cell_type": "code",
   "execution_count": null,
   "metadata": {},
   "outputs": [],
   "source": []
  },
  {
   "cell_type": "code",
   "execution_count": null,
   "metadata": {},
   "outputs": [],
   "source": []
  }
 ],
 "metadata": {
  "kernelspec": {
   "display_name": "Python 3",
   "language": "python",
   "name": "python3"
  },
  "language_info": {
   "codemirror_mode": {
    "name": "ipython",
    "version": 3
   },
   "file_extension": ".py",
   "mimetype": "text/x-python",
   "name": "python",
   "nbconvert_exporter": "python",
   "pygments_lexer": "ipython3",
   "version": "3.7.0"
  }
 },
 "nbformat": 4,
 "nbformat_minor": 2
}
