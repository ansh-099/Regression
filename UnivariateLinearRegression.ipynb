{
 "cells": [
  {
   "cell_type": "code",
   "execution_count": 3,
   "metadata": {},
   "outputs": [],
   "source": [
    "import numpy as np\n",
    "import matplotlib.pyplot as plt\n",
    "from sklearn.datasets import make_regression"
   ]
  },
  {
   "cell_type": "code",
   "execution_count": 4,
   "metadata": {},
   "outputs": [],
   "source": [
    "# mean = np.array([1,2])\n",
    "# cov = np.array([[0.7,1],[1,1.2]])"
   ]
  },
  {
   "cell_type": "code",
   "execution_count": 5,
   "metadata": {},
   "outputs": [],
   "source": [
    "# data= np.random.multivariate_normal(mean,cov,400)"
   ]
  },
  {
   "cell_type": "code",
   "execution_count": 6,
   "metadata": {},
   "outputs": [
    {
     "name": "stdout",
     "output_type": "stream",
     "text": [
      "(500, 1) (500,)\n"
     ]
    }
   ],
   "source": [
    "# Data Generation\n",
    "X,Y, coef = make_regression(n_samples=500, n_features=1, bias=3.7,noise=8.5, coef= True)\n",
    "print(X.shape,Y.shape)"
   ]
  },
  {
   "cell_type": "code",
   "execution_count": 7,
   "metadata": {},
   "outputs": [
    {
     "data": {
      "image/png": "[encoded data removed]",
      "text/plain": [
       "<Figure size 432x288 with 1 Axes>"
      ]
     },
     "metadata": {
      "needs_background": "light"
     },
     "output_type": "display_data"
    }
   ],
   "source": [
    "plt.figure()\n",
    "plt.scatter(X,Y)\n",
    "plt.show()"
   ]
  },
  {
   "cell_type": "code",
   "execution_count": 8,
   "metadata": {},
   "outputs": [],
   "source": [
    "class UnivariateLinearRegression:\n",
    "    def __init__(self,X,Y):\n",
    "        self.X = X\n",
    "        self.Y = Y\n",
    "        self.slope = np.random.uniform(low=-1,high=1)\n",
    "        self.intercept = np.random.random()\n",
    "        \n",
    "        \n",
    "    def hypothesis(self, x):\n",
    "        return self.slope * x +self.intercept \n",
    "    \n",
    "    def apply_gradient_descent(self, learning_rate = 0.01):\n",
    "        d1dw0 = 0\n",
    "        d1dw1 = 0\n",
    "        \n",
    "        #compute Gradients\n",
    "        for x,y in zip(self.X,self.Y):\n",
    "            grad_00 = (self.hypothesis(x) - y)\n",
    "            grad_01 = (self.hypothesis(x) - y) * x\n",
    "            d1dw0 += grad_00\n",
    "            d1dw1 += grad_01\n",
    "            \n",
    "        d1dw0 /= self.X.shape[0]\n",
    "        d1dw1 /= self.X.shape[0]\n",
    "            \n",
    "        \n",
    "        \n",
    "        #Update Weights\n",
    "        \n",
    "        self.intercept = self.intercept - (learning_rate*d1dw0)\n",
    "        self.slope = self.slope - (learning_rate*d1dw1)\n",
    "        \n",
    "        \n",
    "        \n",
    "    \n",
    "    def compute_loss(self):\n",
    "        losses = []\n",
    "        for x,y in zip(self.X,self.Y):\n",
    "            losses.append((y - self.hypothesis(x))**2)\n",
    "        losses = np.array(losses)\n",
    "        \n",
    "        final = losses.sum() / 2 * losses.shape[0]\n",
    "        return final\n",
    "    \n",
    "    def run(self, losses , iterations = 1):\n",
    "        \n",
    "        for i in range(iterations):\n",
    "            losses.append(self.compute_loss())\n",
    "            self.apply_gradient_descent()\n",
    "        return losses\n",
    "        "
   ]
  },
  {
   "cell_type": "code",
   "execution_count": 9,
   "metadata": {},
   "outputs": [],
   "source": [
    "reg = UnivariateLinearRegression(X,Y)"
   ]
  },
  {
   "cell_type": "code",
   "execution_count": 10,
   "metadata": {},
   "outputs": [],
   "source": [
    "losses = [reg.compute_loss()]\n",
    "losses = reg.run(losses,1000)\n",
    "\n"
   ]
  },
  {
   "cell_type": "code",
   "execution_count": 11,
   "metadata": {},
   "outputs": [],
   "source": [
    "def plot_regression(uni_lin_reg):\n",
    "    # Get Predictions\n",
    "    yhat = []\n",
    "    for x in uni_lin_reg.X:\n",
    "        yhat.append(uni_lin_reg.hypothesis(x))\n",
    "\n",
    "    yhat = np.array(yhat)\n",
    "\n",
    "    # Scatter Plot\n",
    "    plt.figure()\n",
    "    plt.scatter(uni_lin_reg.X, uni_lin_reg.Y)\n",
    "    plt.plot(uni_lin_reg.X, yhat, 'r')\n",
    "    plt.show()"
   ]
  },
  {
   "cell_type": "code",
   "execution_count": 12,
   "metadata": {},
   "outputs": [
    {
     "data": {
      "image/png": "[encoded data removed]",
      "text/plain": [
       "<Figure size 432x288 with 1 Axes>"
      ]
     },
     "metadata": {
      "needs_background": "light"
     },
     "output_type": "display_data"
    }
   ],
   "source": [
    "# Plotting Loss\n",
    "plt.figure()\n",
    "plt.plot(losses)\n",
    "plt.show()"
   ]
  },
  {
   "cell_type": "code",
   "execution_count": 13,
   "metadata": {},
   "outputs": [
    {
     "data": {
      "image/png": "[encoded data removed]",
      "text/plain": [
       "<Figure size 432x288 with 1 Axes>"
      ]
     },
     "metadata": {
      "needs_background": "light"
     },
     "output_type": "display_data"
    }
   ],
   "source": [
    "plot_regression(reg)"
   ]
  },
  {
   "cell_type": "code",
   "execution_count": null,
   "metadata": {},
   "outputs": [],
   "source": []
  },
  {
   "cell_type": "code",
   "execution_count": null,
   "metadata": {},
   "outputs": [],
   "source": []
  },
  {
   "cell_type": "code",
   "execution_count": null,
   "metadata": {},
   "outputs": [],
   "source": []
  },
  {
   "cell_type": "code",
   "execution_count": null,
   "metadata": {},
   "outputs": [],
   "source": []
  },
  {
   "cell_type": "code",
   "execution_count": null,
   "metadata": {},
   "outputs": [],
   "source": []
  }
 ],
 "metadata": {
  "kernelspec": {
   "display_name": "Python 3",
   "language": "python",
   "name": "python3"
  },
  "language_info": {
   "codemirror_mode": {
    "name": "ipython",
    "version": 3
   },
   "file_extension": ".py",
   "mimetype": "text/x-python",
   "name": "python",
   "nbconvert_exporter": "python",
   "pygments_lexer": "ipython3",
   "version": "3.7.0"
  }
 },
 "nbformat": 4,
 "nbformat_minor": 2
}
